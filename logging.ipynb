{
 "cells": [
  {
   "cell_type": "code",
   "execution_count": null,
   "id": "376c5438",
   "metadata": {},
   "outputs": [],
   "source": [
    "import pandas as pd\n",
    "import os\n",
    "from sqlalchemy import create_engine\n",
    "import logging\n",
    "import time\n",
    "\n",
    "logging.basicConfig(\n",
    "    filename=\"logs/ingestion_db.log\",\n",
    "    level=logging.DEBUG,\n",
    "    format=\"%(asctime)s - %(levelname)s - %(message)s\",\n",
    "    filemode=\"a\"\n",
    " )\n",
    "\n",
    "engine=create_engine('sqlite:///inventory.db')\n",
    "\n",
    "def ingest_db(chunk, table_name, engine, if_exists_mode):\n",
    "    '''this function will ingest the dataframe into database table'''\n",
    "    chunk.to_sql(table_name, con=engine, if_exists=if_exists_mode, index=False)\n",
    "\n",
    "def load_raw_data():\n",
    "    '''this function will load the CSVs as dataframe and ingest into db'''\n",
    "    chunk_size = 1000000  # or 100000 depending on your system\n",
    "    start = time.time()\n",
    "    for file in os.listdir('data'):\n",
    "        if file.endswith('.csv'):\n",
    "            table_name = file[:-4]\n",
    "            first_chunk = True\n",
    "            for chunk in pd.read_csv('data/' + file, chunksize=chunk_size):\n",
    "                logging.info(f'Ingesting {file} in db')\n",
    "                if first_chunk:\n",
    "                    ingest_db(chunk, table_name, engine, 'replace')\n",
    "                    first_chunk = False\n",
    "                else:\n",
    "                    ingest_db(chunk, table_name, engine, 'append')\n",
    "    end = time.time()\n",
    "    total_time = (end - start) / 60\n",
    "    logging.info('--------------Ingestion Complete--------------')\n",
    "    logging.info(f'\\nTotal Time Taken: {total_time} minutes')\n",
    "\n",
    "if __name__=='__main__':\n",
    "    load_raw_data()"
   ]
  },
  {
   "cell_type": "code",
   "execution_count": null,
   "id": "74fb90e2",
   "metadata": {},
   "outputs": [],
   "source": []
  }
 ],
 "metadata": {
  "kernelspec": {
   "display_name": "base",
   "language": "python",
   "name": "python3"
  },
  "language_info": {
   "codemirror_mode": {
    "name": "ipython",
    "version": 3
   },
   "file_extension": ".py",
   "mimetype": "text/x-python",
   "name": "python",
   "nbconvert_exporter": "python",
   "pygments_lexer": "ipython3",
   "version": "3.11.4"
  }
 },
 "nbformat": 4,
 "nbformat_minor": 5
}
